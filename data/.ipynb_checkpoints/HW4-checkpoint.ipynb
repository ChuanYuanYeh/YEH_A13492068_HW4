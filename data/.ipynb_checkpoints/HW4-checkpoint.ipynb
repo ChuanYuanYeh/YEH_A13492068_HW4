{
 "cells": [
  {
   "cell_type": "markdown",
   "metadata": {},
   "source": [
    "# HW4 : A visit to the movie zoo!\n",
    "\n",
    "![](https://vignette.wikia.nocookie.net/bojackhorseman/images/f/f2/HSACWDTK%3FDTKT%3FLFO%21%21.png/revision/latest?cb=20150720050503)"
   ]
  },
  {
   "cell_type": "markdown",
   "metadata": {},
   "source": [
    "## Task\n",
    "In this homework, your task is to visualize THREE non-typical charts on anything related to your favorite **movie star!**\n",
    "This means you CANNOT use the Big 4 chart types or their close variants (i.e. Pie, Bar, Line and Scatter, Area, etc.)\n",
    "\n",
    "You are free to use any other chart type whether or not they were covered in class!\n",
    "The lecture on Visit To The Zoo is a good place to start to get ideas on what kinds of charts exist.\n",
    "\n",
    "For the data, you are free to use any data source you deem fit.\n",
    "For charting, we will NOT be constraining the technology you use. \n",
    "You are free to produce the charts in any way you would like.\n",
    "\n",
    "You will be judged on\n",
    "* Creativity\n",
    "* Presentation Quality\n",
    "* Data Quality (Did your visualization reveal something interesting?)\n",
    "\n",
    "For extra credit, you can make a fully interactive visualization."
   ]
  },
  {
   "cell_type": "markdown",
   "metadata": {},
   "source": [
    "## Ideas for Data Collection\n",
    "\n",
    "Here, we show an example of how to collect data about Arnold Schwarzenegger!\n",
    "Do note that this is just an example of the kind of data you can collect.\n",
    "You are **NOT** constrained\n",
    "* To the same movie star (you can pick your own!)\n",
    "* To the same *kind* of data\n",
    "* To the same data sources\n",
    "* or to anything else!\n",
    "\n",
    "This assignment gives you the power to do what you like!"
   ]
  },
  {
   "cell_type": "code",
   "execution_count": 1,
   "metadata": {},
   "outputs": [],
   "source": [
    "from imdbpie import ImdbFacade\n",
    "from IPython.core.display import display, HTML\n",
    "from bs4 import BeautifulSoup\n",
    "import urllib.request\n",
    "import re"
   ]
  },
  {
   "cell_type": "markdown",
   "metadata": {},
   "source": [
    "#### Get data for Arnold Schwarzenegger"
   ]
  },
  {
   "cell_type": "code",
   "execution_count": 45,
   "metadata": {},
   "outputs": [
    {
     "name": "stdout",
     "output_type": "stream",
     "text": [
      "(NameSearchResult(imdb_id='nm0000216', name='Arnold Schwarzenegger'), NameSearchResult(imdb_id='nm2200639', name='Patrick Schwarzenegger'), NameSearchResult(imdb_id='nm0004569', name='Sanjay Dutt'))\n"
     ]
    }
   ],
   "source": [
    "# Get an instance of IMDb class\n",
    "imdb = ImdbFacade()\n",
    "\n",
    "# Search for Arnold Schwarzenegger\n",
    "people = imdb.search_for_name('Arnold Schwarzenegger')\n",
    "print(people)"
   ]
  },
  {
   "cell_type": "code",
   "execution_count": 46,
   "metadata": {},
   "outputs": [
    {
     "name": "stdout",
     "output_type": "stream",
     "text": [
      "bios\n",
      "birth_place\n",
      "date_of_birth\n",
      "filmography\n",
      "gender\n",
      "image\n",
      "imdb_id\n",
      "name\n"
     ]
    }
   ],
   "source": [
    "# Fetch information about him\n",
    "arnold = imdb.get_name(people[0].imdb_id)\n",
    "\n",
    "# What information do I have about him?\n",
    "print('\\n'.join([x for x in dir(arnold) if not x.startswith('__')]))"
   ]
  },
  {
   "cell_type": "code",
   "execution_count": 47,
   "metadata": {},
   "outputs": [
    {
     "name": "stdout",
     "output_type": "stream",
     "text": [
      "710\n"
     ]
    }
   ],
   "source": [
    "# How many movies does he have?\n",
    "print(len(arnold.filmography))"
   ]
  },
  {
   "cell_type": "code",
   "execution_count": 48,
   "metadata": {},
   "outputs": [
    {
     "data": {
      "text/plain": [
       "Title(imdb_id='tt4598020', title='The Original Action Hero', type='movie', certification=None, year=None, genres=('documentary',), writers=(TitleName(name='Tom Brown', category='writer', imdb_id='nm0114809', job=None, characters=()),), creators=(), credits=(TitleName(name='Nina Bautista', category='miscellaneous', imdb_id='nm2781959', job='talent relations', characters=()), TitleName(name='Patrick Stanbury', category='miscellaneous', imdb_id='nm0821977', job='senior production consultant', characters=()), TitleName(name='Mimi Freedman', category='director', imdb_id='nm1038341', job=None, characters=()), TitleName(name='Sacha Skarbek', category='music_department', imdb_id='nm4364590', job='music counsel', characters=()), TitleName(name='Luke Evans', category='self', imdb_id='nm1812656', job=None, characters=()), TitleName(name='Arnold Schwarzenegger', category='self', imdb_id='nm0000216', job=None, characters=()), TitleName(name='Charley Palmer Rothwell', category='self', imdb_id='nm5065265', job=None, characters=()), TitleName(name='Julie Pacino', category='self', imdb_id='nm3609203', job=None, characters=()), TitleName(name='Kevin Brownlow', category='self', imdb_id='nm0002206', job=None, characters=()), TitleName(name='Simon Mirren', category='self', imdb_id='nm0592535', job=None, characters=()), TitleName(name='Donal MacIntyre', category='self', imdb_id='nm1605098', job=None, characters=()), TitleName(name='Jennifer DeLia', category='self', imdb_id='nm1837777', job=None, characters=()), TitleName(name='Dave King', category='self', imdb_id='nm3469893', job=None, characters=()), TitleName(name='Katherine Quinn', category='self', imdb_id='nm4664592', job=None, characters=()), TitleName(name='Tom Brown', category='producer', imdb_id='nm0114809', job='executive producer', characters=()), TitleName(name='Baba Jallah Epega', category='producer', imdb_id='nm7243387', job='producer', characters=()), TitleName(name='Jayjay Epega', category='producer', imdb_id='nm7228661', job='executive producer', characters=()), TitleName(name='Danny Prescott', category='producer', imdb_id='nm2342466', job='associate producer', characters=()), TitleName(name='Gordon Radley', category='producer', imdb_id='nm7256743', job='executive producer', characters=()), TitleName(name='Yu-Fai Suen', category='producer', imdb_id='nm2522094', job='producer', characters=()), TitleName(name='Tom Brown', category='writer', imdb_id='nm0114809', job=None, characters=())), directors=(TitleName(name='Mimi Freedman', category='director', imdb_id='nm1038341', job=None, characters=()),), stars=(TitleName(name='Luke Evans', category='self', imdb_id='nm1812656', job=None, characters=('Himself',)), TitleName(name='Arnold Schwarzenegger', category='self', imdb_id='nm0000216', job=None, characters=('Himself',)), TitleName(name='Charley Palmer Rothwell', category='self', imdb_id='nm5065265', job=None, characters=('Himself',)), TitleName(name='Julie Pacino', category='self', imdb_id='nm3609203', job=None, characters=('Herself',))), image=None, episodes=(), rating_count=0, releases=(), season=None, episode=None, rating=None, plot_outline='TV Documentary covering the evolution of the Action Hero in film.', release_date=None, runtime=None)"
      ]
     },
     "execution_count": 48,
     "metadata": {},
     "output_type": "execute_result"
    }
   ],
   "source": [
    "# Let's fetch some more information about a movie\n",
    "movie = imdb.get_title(arnold.filmography[0])\n",
    "movie"
   ]
  },
  {
   "cell_type": "code",
   "execution_count": 49,
   "metadata": {},
   "outputs": [
    {
     "name": "stdout",
     "output_type": "stream",
     "text": [
      "certification\n",
      "creators\n",
      "credits\n",
      "directors\n",
      "episode\n",
      "episodes\n",
      "genres\n",
      "image\n",
      "imdb_id\n",
      "plot_outline\n",
      "rating\n",
      "rating_count\n",
      "release_date\n",
      "releases\n",
      "runtime\n",
      "season\n",
      "stars\n",
      "title\n",
      "type\n",
      "writers\n",
      "year\n"
     ]
    }
   ],
   "source": [
    "# What information can I get about this movie?\n",
    "print('\\n'.join([x for x in dir(movie) if not x.startswith('__')]))"
   ]
  },
  {
   "cell_type": "code",
   "execution_count": 50,
   "metadata": {},
   "outputs": [
    {
     "name": "stdout",
     "output_type": "stream",
     "text": [
      "tt4598020\n"
     ]
    }
   ],
   "source": [
    "print(movie.imdb_id)"
   ]
  },
  {
   "cell_type": "code",
   "execution_count": 9,
   "metadata": {},
   "outputs": [
    {
     "data": {
      "text/html": [
       "\n",
       "    <div style=\"background-color:#FFDDDD\">\n",
       "    <h2> Warning! </h2>\n",
       "    <p> This code below is meant to be an example of what you can do. <br>\n",
       "        It is not guaranteed to work always, and will need to be tweaked!\n",
       "    </p>\n",
       "    </div>\n"
      ],
      "text/plain": [
       "<IPython.core.display.HTML object>"
      ]
     },
     "metadata": {},
     "output_type": "display_data"
    }
   ],
   "source": [
    "html = \"\"\"\n",
    "    <div style=\"background-color:#FFDDDD\">\n",
    "    <h2> Warning! </h2>\n",
    "    <p> This code below is meant to be an example of what you can do. <br>\n",
    "        It is not guaranteed to work always, and will need to be tweaked!\n",
    "    </p>\n",
    "    </div>\n",
    "\"\"\"\n",
    "display(HTML(html))"
   ]
  },
  {
   "cell_type": "markdown",
   "metadata": {},
   "source": [
    "#### Box office numbers"
   ]
  },
  {
   "cell_type": "code",
   "execution_count": null,
   "metadata": {},
   "outputs": [],
   "source": [
    "# Let's experiment with Terminator\n",
    "imdb_id = 'tt0068000'\n",
    "\n",
    "# Fetch the box office numbers\n",
    "base = 'https://www.boxofficemojo.com'\n",
    "url = base + '/title/' + imdb_id\n",
    "# source = urllib.request.urlopen(url).read()\n",
    "# soup = BeautifulSoup(source,'lxml')\n",
    "\n",
    "# table = soup('th', text=re.compile(r'Release Group'))[0].parent.parent\n",
    "# group = table.findAll('tr', recursive=False)[1].find('a').get('href')\n",
    "# url = base + group\n",
    "\n",
    "# # Get total earnings domestic and international\n",
    "# source = urllib.request.urlopen(url).read()\n",
    "# soup = BeautifulSoup(source,'lxml')\n",
    "# earnings = soup('h2', text=re.compile(r'Rollout'))[0].parent.parent.findAll('div')\n",
    "# worldwide = earnings[3].find('span', {'class': 'money'}).get_text()\n",
    "# date = soup('table')[0].findAll('td')[1].get_text()"
   ]
  },
  {
   "cell_type": "markdown",
   "metadata": {},
   "source": [
    "## Other resources!"
   ]
  },
  {
   "cell_type": "markdown",
   "metadata": {},
   "source": [
    "This assignment doesn't have a restriction on where you can look for data.\n",
    "Further, we don't mind how you collect the data, or what data you collect.\n",
    "\n",
    "Here are some additional resources for this example, and you can customize it for your own!\n",
    "* Arnold Schwarzenegger Kill Count: https://www.youtube.com/watch?v=OE6jpTaOYMU\n",
    "* Arnold Schwarzenegger Top Quotes: https://www.youtube.com/watch?v=pDxn0Xfqkgw\n",
    "\n",
    "You could think about the IMDB network as a graph, with different actors connected through movies.\n",
    "\n",
    "Some other useful libraries/ databases:\n",
    "* IMDBPy\n",
    "* http://www.omdbapi.com/"
   ]
  },
  {
   "cell_type": "markdown",
   "metadata": {},
   "source": [
    "## Outline"
   ]
  },
  {
   "cell_type": "markdown",
   "metadata": {},
   "source": [
    "Movie star: Jackie Chan\n",
    "\n",
    "Objective: In-depth analysis on his breakthrough movie\n",
    "\n",
    "* Timeline showing his path to fame\n",
    "* Wordcloud based on review of breakthrough movie\n",
    "* Compare gross-income of breakthrough movie to other well-known martial artist actors' breakthrough movies"
   ]
  },
  {
   "cell_type": "code",
   "execution_count": null,
   "metadata": {},
   "outputs": [],
   "source": []
  }
 ],
 "metadata": {
  "kernelspec": {
   "display_name": "Python 3",
   "language": "python",
   "name": "python3"
  },
  "language_info": {
   "codemirror_mode": {
    "name": "ipython",
    "version": 3
   },
   "file_extension": ".py",
   "mimetype": "text/x-python",
   "name": "python",
   "nbconvert_exporter": "python",
   "pygments_lexer": "ipython3",
   "version": "3.6.2"
  }
 },
 "nbformat": 4,
 "nbformat_minor": 2
}
