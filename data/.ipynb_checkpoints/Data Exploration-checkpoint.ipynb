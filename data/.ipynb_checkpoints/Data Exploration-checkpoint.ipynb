{
 "cells": [
  {
   "cell_type": "code",
   "execution_count": 78,
   "metadata": {},
   "outputs": [],
   "source": [
    "import pandas as pd\n",
    "import xlrd\n",
    "import string\n",
    "from nltk.corpus import stopwords\n",
    "from pandas import ExcelWriter\n",
    "from pandas import ExcelFile\n",
    "\n",
    "words = stopwords.words('english')"
   ]
  },
  {
   "cell_type": "code",
   "execution_count": 66,
   "metadata": {},
   "outputs": [],
   "source": [
    "reviews1 = pd.read_csv('data/ratings1.csv')\n",
    "reviews2 = pd.ExcelFile('data/ratings2.xlsx').parse(pd.ExcelFile('data/ratings2.xlsx').sheet_names[-1])\n",
    "reviews3 = pd.ExcelFile('data/ratings3.xlsx').parse(pd.ExcelFile('data/ratings3.xlsx').sheet_names[-1])\n",
    "reviews = reviews1.append(reviews2, ignore_index=True)\n",
    "reviews = reviews.append(reviews3, ignore_index=True)\n",
    "reviews = reviews.dropna(subset=['rating-other-user-rating'])\n",
    "\n",
    "reviews.text = reviews.text.str.replace('[{}]'.format(string.punctuation), '')\n",
    "reviews.Title = reviews.Title.str.replace('[{}]'.format(string.punctuation), '')\n",
    "reviews.text = reviews.text.str.lower()\n",
    "reviews.Title = reviews.Title.str.lower()\n",
    "reviews.text = reviews.text.apply(lambda x: ' '.join([word for word in x.split() if word not in (words)]))\n",
    "reviews.Title = reviews.Title.apply(lambda x: ' '.join([word for word in x.split() if word not in (words)]))"
   ]
  },
  {
   "cell_type": "code",
   "execution_count": 67,
   "metadata": {},
   "outputs": [],
   "source": [
    "positive = reviews.loc[reviews['rating-other-user-rating'] > 5.0]\n",
    "negative = reviews.loc[reviews['rating-other-user-rating'] <= 5.0]"
   ]
  },
  {
   "cell_type": "code",
   "execution_count": 75,
   "metadata": {},
   "outputs": [],
   "source": [
    "positive_words = pd.Series(' '.join(positive['text']).split()).value_counts().to_frame(name='count').reset_index()\n",
    "negative_words = pd.Series(' '.join(negative['text']).split()).value_counts().to_frame(name='count').reset_index()"
   ]
  },
  {
   "cell_type": "code",
   "execution_count": 92,
   "metadata": {},
   "outputs": [],
   "source": [
    "positive_words = positive_words.loc[positive_words['count'] >= 50]\n",
    "negative_words = negative_words.loc[negative_words['count'] >= 4]"
   ]
  },
  {
   "cell_type": "code",
   "execution_count": 93,
   "metadata": {},
   "outputs": [],
   "source": [
    "positive_words.to_excel('pos_words.xlsx', index=False)\n",
    "negative_words.to_excel('neg_words.xlsx', index=False)"
   ]
  },
  {
   "cell_type": "code",
   "execution_count": 97,
   "metadata": {},
   "outputs": [],
   "source": [
    "all_words = pd.Series(' '.join(reviews['text']).split()).value_counts().to_frame(name='count').reset_index()\n",
    "all_words = all_words.loc[all_words['count'] >= 50]\n",
    "all_words.to_excel('all_words.xlsx', index=False)"
   ]
  },
  {
   "cell_type": "code",
   "execution_count": null,
   "metadata": {},
   "outputs": [],
   "source": []
  }
 ],
 "metadata": {
  "kernelspec": {
   "display_name": "Python 3",
   "language": "python",
   "name": "python3"
  },
  "language_info": {
   "codemirror_mode": {
    "name": "ipython",
    "version": 3
   },
   "file_extension": ".py",
   "mimetype": "text/x-python",
   "name": "python",
   "nbconvert_exporter": "python",
   "pygments_lexer": "ipython3",
   "version": "3.6.2"
  }
 },
 "nbformat": 4,
 "nbformat_minor": 2
}
